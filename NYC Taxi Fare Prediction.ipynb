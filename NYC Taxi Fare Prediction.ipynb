{
 "cells": [
  {
   "cell_type": "code",
   "execution_count": 1,
   "id": "8de11aaa",
   "metadata": {},
   "outputs": [],
   "source": [
    "import pandas as pd\n",
    "import numpy as np\n",
    "import matplotlib.pyplot as plt\n",
    "import seaborn as sns"
   ]
  },
  {
   "cell_type": "code",
   "execution_count": 2,
   "id": "834e0b89",
   "metadata": {},
   "outputs": [],
   "source": [
    "# plt.rcParams['figure.figsize'] = (14,5)\n",
    "# plt.rcParams[\"font.family\"] = \"monospace\"\n",
    "# plt.rcParams['axes.edgecolor'] = 'black'\n",
    "\n",
    "# plt.rcParams['figure.frameon'] = True\n",
    "# plt.rcParams['axes.linewidth'] = 1.5\n",
    "\n",
    "import warnings\n",
    "warnings.filterwarnings(\"ignore\")"
   ]
  },
  {
   "cell_type": "code",
   "execution_count": 3,
   "id": "05b71979",
   "metadata": {
    "scrolled": true
   },
   "outputs": [],
   "source": [
    "cols = ['fare_amount', \n",
    "        'pickup_datetime', \n",
    "        'pickup_longitude', \n",
    "        'pickup_latitude', \n",
    "        'dropoff_longitude', \n",
    "        'dropoff_latitude', \n",
    "        'passenger_count']\n",
    "\n",
    "# Set columns to most suitable type to optimize for memory usage\n",
    "dtypes = {'fare_amount': np.float32,\n",
    "              'pickup_datetime': 'str', \n",
    "              'pickup_longitude': np.float32,\n",
    "              'pickup_latitude': np.float32,\n",
    "              'dropoff_longitude': np.float32,\n",
    "              'dropoff_latitude': np.float32,\n",
    "              'passenger_count': np.uint8}\n"
   ]
  },
  {
   "cell_type": "code",
   "execution_count": 4,
   "id": "bbb33f9b",
   "metadata": {},
   "outputs": [
    {
     "name": "stdout",
     "output_type": "stream",
     "text": [
      "Wall time: 1min 1s\n"
     ]
    }
   ],
   "source": [
    "# %%time\n",
    "# df = pd.read_csv('train.csv', usecols=cols, dtype=dtypes, nrows=20_000_000)"
   ]
  },
  {
   "cell_type": "code",
   "execution_count": 5,
   "id": "854a16e7",
   "metadata": {},
   "outputs": [
    {
     "name": "stdout",
     "output_type": "stream",
     "text": [
      "Wall time: 7.7 s\n"
     ]
    }
   ],
   "source": [
    "# %%time\n",
    "# df.to_feather('nyc_taxi_data_raw.feather')"
   ]
  },
  {
   "cell_type": "code",
   "execution_count": 6,
   "id": "98a34232",
   "metadata": {},
   "outputs": [],
   "source": [
    "del df"
   ]
  },
  {
   "cell_type": "code",
   "execution_count": 7,
   "id": "9b90abb4",
   "metadata": {},
   "outputs": [],
   "source": [
    "#!pip install pyarrow"
   ]
  },
  {
   "cell_type": "code",
   "execution_count": 8,
   "id": "73719e57",
   "metadata": {},
   "outputs": [
    {
     "name": "stdout",
     "output_type": "stream",
     "text": [
      "Wall time: 13.7 s\n"
     ]
    }
   ],
   "source": [
    "%%time\n",
    "train = pd.read_feather('nyc_taxi_data_raw.feather')"
   ]
  },
  {
   "cell_type": "code",
   "execution_count": 9,
   "id": "7ccfa075",
   "metadata": {},
   "outputs": [
    {
     "name": "stdout",
     "output_type": "stream",
     "text": [
      "Train Size: (20000000, 7)\n"
     ]
    }
   ],
   "source": [
    "print('Train Size:', train.shape)"
   ]
  },
  {
   "cell_type": "code",
   "execution_count": 10,
   "id": "45427963",
   "metadata": {},
   "outputs": [],
   "source": [
    "test = pd.read_csv('test.csv', dtype=dtypes)"
   ]
  },
  {
   "cell_type": "code",
   "execution_count": 11,
   "id": "7ddd6e84",
   "metadata": {},
   "outputs": [
    {
     "name": "stdout",
     "output_type": "stream",
     "text": [
      "Test Size: (9914, 7)\n"
     ]
    }
   ],
   "source": [
    "print('Test Size:', test.shape)"
   ]
  },
  {
   "cell_type": "code",
   "execution_count": 12,
   "id": "7e25e9e9",
   "metadata": {},
   "outputs": [],
   "source": [
    "train['pickup_datetime'] = train['pickup_datetime'].str.replace('UTC', '')\n",
    "train['pickup_datetime'] = pd.to_datetime(train['pickup_datetime'])"
   ]
  },
  {
   "cell_type": "code",
   "execution_count": 13,
   "id": "6d84a8d6",
   "metadata": {},
   "outputs": [],
   "source": [
    "test['pickup_datetime'] = test['pickup_datetime'].str.replace('UTC', '')\n",
    "test['pickup_datetime'] = pd.to_datetime(test['pickup_datetime'])"
   ]
  },
  {
   "cell_type": "code",
   "execution_count": 14,
   "id": "e913ad3a",
   "metadata": {},
   "outputs": [],
   "source": [
    "train['day'] = train['pickup_datetime'].dt.day\n",
    "train['hour'] = train['pickup_datetime'].dt.hour\n",
    "train['year'] = train['pickup_datetime'].dt.year\n",
    "train[\"day_of_week\"] = train['pickup_datetime'].dt.dayofweek\n",
    "train['is_weekend'] = train['day_of_week'].apply(lambda x:1 if x>4 else 0)"
   ]
  },
  {
   "cell_type": "code",
   "execution_count": 15,
   "id": "d5bd2ffd",
   "metadata": {},
   "outputs": [],
   "source": [
    "for i in ['day', 'hour','day_of_week']:\n",
    "    train[i] = train[i].astype(np.uint8)"
   ]
  },
  {
   "cell_type": "code",
   "execution_count": 16,
   "id": "26ea0510",
   "metadata": {},
   "outputs": [],
   "source": [
    "train['year'] = train.year.astype(np.uint16)"
   ]
  },
  {
   "cell_type": "code",
   "execution_count": 17,
   "id": "b994e88a",
   "metadata": {},
   "outputs": [],
   "source": [
    "test['day'] = test['pickup_datetime'].dt.day\n",
    "test['hour'] = test['pickup_datetime'].dt.hour\n",
    "test['year'] = test['pickup_datetime'].dt.year\n",
    "test[\"day_of_week\"] = test['pickup_datetime'].dt.dayofweek\n",
    "test['is_weekend'] = test['day_of_week'].apply(lambda x:1 if x>4 else 0)"
   ]
  },
  {
   "cell_type": "code",
   "execution_count": 18,
   "id": "84b1f12d",
   "metadata": {},
   "outputs": [],
   "source": [
    "for i in ['day', 'hour','day_of_week']:\n",
    "    test[i] = test[i].astype(np.uint8)"
   ]
  },
  {
   "cell_type": "code",
   "execution_count": 19,
   "id": "0b9926c2",
   "metadata": {},
   "outputs": [],
   "source": [
    "def is_night(x):\n",
    "    if x >= 6 and x <= 20:\n",
    "        return 0\n",
    "    else:\n",
    "        return 1"
   ]
  },
  {
   "cell_type": "code",
   "execution_count": 20,
   "id": "9f5afd49",
   "metadata": {},
   "outputs": [],
   "source": [
    "train['is_night'] = train.hour.apply(lambda x:is_night(x))"
   ]
  },
  {
   "cell_type": "code",
   "execution_count": 21,
   "id": "2c00182c",
   "metadata": {},
   "outputs": [],
   "source": [
    "train['is_night'] = train.is_night.astype('bool')"
   ]
  },
  {
   "cell_type": "code",
   "execution_count": 22,
   "id": "19586b20",
   "metadata": {},
   "outputs": [],
   "source": [
    "train['is_weekend'] = train.is_weekend.astype('bool')"
   ]
  },
  {
   "cell_type": "code",
   "execution_count": 23,
   "id": "4e122812",
   "metadata": {},
   "outputs": [],
   "source": [
    "test['is_weekend'] = test.is_weekend.astype('bool')"
   ]
  },
  {
   "cell_type": "code",
   "execution_count": 24,
   "id": "aa8d5e95",
   "metadata": {},
   "outputs": [],
   "source": [
    "test['is_night'] = test.hour.apply(lambda x:is_night(x))"
   ]
  },
  {
   "cell_type": "code",
   "execution_count": 25,
   "id": "efe3f687",
   "metadata": {},
   "outputs": [],
   "source": [
    "test['is_night'] = test.is_night.astype(np.bool)"
   ]
  },
  {
   "cell_type": "code",
   "execution_count": 26,
   "id": "31313e97",
   "metadata": {},
   "outputs": [],
   "source": [
    "train.drop('pickup_datetime', axis=1, inplace=True)"
   ]
  },
  {
   "cell_type": "code",
   "execution_count": 27,
   "id": "de743d2f",
   "metadata": {
    "scrolled": true
   },
   "outputs": [],
   "source": [
    "#train.describe()"
   ]
  },
  {
   "cell_type": "code",
   "execution_count": 28,
   "id": "c56d010d",
   "metadata": {},
   "outputs": [
    {
     "name": "stdout",
     "output_type": "stream",
     "text": [
      "Number of negative fare amount: 832\n"
     ]
    }
   ],
   "source": [
    "print('Number of negative fare amount:',train[train['fare_amount']<0].shape[0])\n",
    "\n",
    "# -----------------------------------------\n",
    "idx = train['fare_amount']>=2.5\n",
    "train = train[idx] # Selecting rows >= $2.5 on fare amount"
   ]
  },
  {
   "cell_type": "code",
   "execution_count": 29,
   "id": "c3430840",
   "metadata": {
    "scrolled": true
   },
   "outputs": [],
   "source": [
    "# # create a an fare amount category attribute with five bins to understand better this attribute\n",
    "train[\"fare_amount_hist\"]=pd.cut(train[\"fare_amount\"],\n",
    "                            bins=[0., 6.0,12.,48.,150., np.inf],\n",
    "                                  labels = [1,2,3,4,5])\n",
    "# plt.figure(figsize=(16,4))\n",
    "# ax = train[\"fare_amount_hist\"].hist()\n",
    "\n",
    "# ax.set_xticks(range(1,6), labels = [1,2,3,4,5])\n",
    "# sns.despine()"
   ]
  },
  {
   "cell_type": "code",
   "execution_count": 30,
   "id": "f1f2a3c3",
   "metadata": {},
   "outputs": [
    {
     "data": {
      "text/plain": [
       "2    9438851\n",
       "1    5125317\n",
       "3    5046647\n",
       "4     385568\n",
       "5       1936\n",
       "Name: fare_amount_hist, dtype: int64"
      ]
     },
     "execution_count": 30,
     "metadata": {},
     "output_type": "execute_result"
    }
   ],
   "source": [
    "train['fare_amount_hist'].value_counts()"
   ]
  },
  {
   "cell_type": "code",
   "execution_count": 31,
   "id": "5ffae47c",
   "metadata": {},
   "outputs": [],
   "source": [
    "train = train[train['fare_amount_hist']<=4] # Selecting rows <= $150"
   ]
  },
  {
   "cell_type": "code",
   "execution_count": 32,
   "id": "af8fc545",
   "metadata": {},
   "outputs": [],
   "source": [
    "train = train.drop('fare_amount_hist', axis=1)"
   ]
  },
  {
   "cell_type": "code",
   "execution_count": 33,
   "id": "f9344ed5",
   "metadata": {
    "scrolled": true
   },
   "outputs": [],
   "source": [
    "# plt.figure(figsize=(16,4))\n",
    "# sns.histplot(x='fare_amount',data=train,stat='count',kde=True,color='red')\n",
    "# plt.ylabel('fare amount')\n",
    "# sns.despine()\n",
    "# plt.xlabel('');"
   ]
  },
  {
   "cell_type": "code",
   "execution_count": 34,
   "id": "edf2e17f",
   "metadata": {
    "scrolled": true
   },
   "outputs": [
    {
     "name": "stdout",
     "output_type": "stream",
     "text": [
      "Range of pickup_latitude is : (3406.008, -3492.264)\n",
      "Range of pickup_longitude is : (3457.626, -3439.245)\n",
      "Range of dropoff_latitude is : (3400.392, -3493.652)\n",
      "Range of dropoff_longitude is : (3457.622, -3442.025)\n"
     ]
    }
   ],
   "source": [
    "coordinates_columns = ['pickup_latitude', 'pickup_longitude', 'dropoff_latitude', 'dropoff_longitude']\n",
    "for coord in coordinates_columns:\n",
    "    maxi = train[coord].max()\n",
    "    mini = train[coord].min()\n",
    "    print (\"Range of {} is : ({:.3f}, {:.3f})\".format(coord, maxi, mini))"
   ]
  },
  {
   "cell_type": "code",
   "execution_count": 35,
   "id": "c461d8dd",
   "metadata": {},
   "outputs": [],
   "source": [
    "coordinates = {'min_long': min(test.pickup_longitude.min(), test.dropoff_longitude.min()),\n",
    "              'max_long': max(test.pickup_longitude.max(), test.dropoff_longitude.max()),\n",
    "              'min_lat': min(test.pickup_latitude.min(), test.dropoff_latitude.min()),\n",
    "              'max_lat' : min(test.pickup_latitude.max(), test.dropoff_latitude.max()),}"
   ]
  },
  {
   "cell_type": "code",
   "execution_count": 36,
   "id": "e3ced2f6",
   "metadata": {},
   "outputs": [],
   "source": [
    "train = train[(train.pickup_longitude >= coordinates['min_long']) & \n",
    "      (train.pickup_longitude <= coordinates['max_long']) & \n",
    "      (train.pickup_latitude >= coordinates['min_lat']) & \n",
    "      (train.pickup_latitude <= coordinates['max_lat']) &\n",
    "      (train.dropoff_longitude >= coordinates['min_long']) &\n",
    "      (train.dropoff_longitude <= coordinates['max_long']) &\n",
    "      (train.dropoff_latitude >= coordinates['min_lat']) & \n",
    "      (train.dropoff_latitude<= coordinates['max_lat'])]"
   ]
  },
  {
   "cell_type": "code",
   "execution_count": 37,
   "id": "d9a7ca56",
   "metadata": {},
   "outputs": [],
   "source": [
    "def remove_datapoints_from_water(df):\n",
    "    def lonlat_to_xy(longitude, latitude, dx, dy, BB):\n",
    "        return (dx*(longitude - BB[0])/(BB[1]-BB[0])).astype('int'), \\\n",
    "               (dy - dy*(latitude - BB[2])/(BB[3]-BB[2])).astype('int')\n",
    "\n",
    "    # define bounding box\n",
    "    BB = (-74.5, -72.8, 40.5, 41.8)\n",
    "    \n",
    "    # read nyc mask and turn into boolean map with\n",
    "    # land = True, water = False\n",
    "    nyc_mask = plt.imread('nyc_map.jpg')[:,:,0] > 0.9\n",
    "    \n",
    "    # calculate for each lon,lat coordinate the xy coordinate in the mask map\n",
    "    pickup_x, pickup_y = lonlat_to_xy(df.pickup_longitude, df.pickup_latitude, \n",
    "                                      nyc_mask.shape[1], nyc_mask.shape[0], BB)\n",
    "    dropoff_x, dropoff_y = lonlat_to_xy(df.dropoff_longitude, df.dropoff_latitude, \n",
    "                                      nyc_mask.shape[1], nyc_mask.shape[0], BB)    \n",
    "    # calculate boolean index\n",
    "    idx = nyc_mask[pickup_y, pickup_x] & nyc_mask[dropoff_y, dropoff_x]\n",
    "    \n",
    "    idx = (nyc_mask[pickup_y, pickup_x] & nyc_mask[dropoff_y, dropoff_x])\n",
    "    print(\"Number of trips in water: {}\".format(np.sum(~idx)))\n",
    "    \n",
    "    # return only datapoints on land\n",
    "    return df[idx]"
   ]
  },
  {
   "cell_type": "code",
   "execution_count": 38,
   "id": "e8c06b61",
   "metadata": {},
   "outputs": [
    {
     "name": "stdout",
     "output_type": "stream",
     "text": [
      "Number of trips in water: 2015\n"
     ]
    }
   ],
   "source": [
    "train = remove_datapoints_from_water(train)"
   ]
  },
  {
   "cell_type": "code",
   "execution_count": 39,
   "id": "a9f611d6",
   "metadata": {
    "scrolled": true
   },
   "outputs": [],
   "source": [
    "# # we will use plt.xlim to limit the axes while plotting , to get a better observation of the data\n",
    "# city_long_border = (-74.03, -73.75)\n",
    "# city_lat_border = (40.63, 40.85)\n",
    "\n",
    "# train.plot(kind ='scatter', x='pickup_longitude', y='pickup_latitude',s=.02, alpha =0.4)\n",
    "# plt.ylim(city_lat_border)\n",
    "# plt.xlim(city_long_border)\n",
    "# sns.despine()"
   ]
  },
  {
   "cell_type": "code",
   "execution_count": 40,
   "id": "456a39ad",
   "metadata": {
    "scrolled": true
   },
   "outputs": [
    {
     "data": {
      "text/plain": [
       "1      13529615\n",
       "2       2891521\n",
       "5       1385286\n",
       "3        860338\n",
       "4        416450\n",
       "6        414823\n",
       "0         68935\n",
       "9             5\n",
       "208           4\n",
       "7             4\n",
       "8             3\n",
       "129           1\n",
       "Name: passenger_count, dtype: int64"
      ]
     },
     "execution_count": 40,
     "metadata": {},
     "output_type": "execute_result"
    }
   ],
   "source": [
    "train['passenger_count'].value_counts()"
   ]
  },
  {
   "cell_type": "code",
   "execution_count": 41,
   "id": "d1ef61fc",
   "metadata": {},
   "outputs": [],
   "source": [
    "# In test set there are no zero passengers.\n",
    "idx = train['passenger_count'].between(1,6)\n",
    "train = train[idx]"
   ]
  },
  {
   "cell_type": "code",
   "execution_count": 42,
   "id": "4c7eb8b6",
   "metadata": {},
   "outputs": [],
   "source": [
    "def dist(pickup_longitude,pickup_latitude,dropoff_longitude,dropoff_latitude):\n",
    "    pickup_longitude,pickup_latitude,dropoff_longitude,dropoff_latitude = map(np.radians, [pickup_longitude,pickup_latitude,dropoff_longitude,dropoff_latitude])\n",
    "    dlon = dropoff_longitude - pickup_longitude\n",
    "    dlat = dropoff_latitude - pickup_latitude\n",
    "    a = np.sin(dlat/2.0)**2 + np.cos(pickup_latitude) * np.cos(dropoff_latitude) * np.sin(dlon/2.0)**2\n",
    "    c = 2 * np.arcsin(np.sqrt(a))\n",
    "    distance = 6367 * c\n",
    "    return distance"
   ]
  },
  {
   "cell_type": "code",
   "execution_count": 43,
   "id": "e99e5ca0",
   "metadata": {},
   "outputs": [],
   "source": [
    "# There are extra charges if trip ends in 3 nearby aiports and 7 nearby counties from the NYC center,\n",
    "# so these location points and there distances to pickup and dropoff points are key factors \n",
    "\n",
    "# Distances to nearby city center, airports, and other NY counties\n",
    "def transform(data):\n",
    "    # Distances to nearby airports, city center and other counties\n",
    "    # By reporting distances to these points, the model can somewhat triangulate other locations of interest\n",
    "    \n",
    "    # city center\n",
    "    nyc = (-74.0060, 40.7128)\n",
    "    \n",
    "#     # county\n",
    "    Nassau = (-73.5594, 40.6546)\n",
    "    Suffolk = (-72.6151, 40.9849)\n",
    "    Westchester = (-73.7949, 41.1220)\n",
    "    Rockland = (-73.9830, 41.1489)\n",
    "    Dutchess = (-73.7478, 41.7784)\n",
    "    Orange = (-74.3118, 41.3912)\n",
    "    Putnam = (-73.7949, 41.4351) \n",
    "\n",
    "    # airport\n",
    "    jfk = (-73.7781, 40.6413)\n",
    "    ewr = (-74.1745, 40.6895)\n",
    "    lgr = (-73.8740, 40.7769)\n",
    "    \n",
    "    \n",
    "#     # county\n",
    "    data['pickup_distance_to_center'] = dist(nyc[0], nyc[1],\n",
    "                                      data['pickup_longitude'], data['pickup_latitude'])\n",
    "    data['dropoff_distance_to_center'] = dist(nyc[0], nyc[1],\n",
    "                                      data['dropoff_longitude'], data['dropoff_latitude'])\n",
    "    \n",
    "    data['pickup_distance_to_Nassau'] = dist(Nassau[0], Nassau[1],\n",
    "                                      data['pickup_longitude'], data['pickup_latitude'])\n",
    "    data['dropoff_distance_to_Nassau'] = dist(Nassau[0], Nassau[1],\n",
    "                                      data['dropoff_longitude'], data['dropoff_latitude'])\n",
    "    \n",
    "    data['pickup_distance_to_Suffolk'] = dist(Suffolk[0], Suffolk[1],\n",
    "                                      data['pickup_longitude'], data['pickup_latitude'])\n",
    "    data['dropoff_distance_to_Suffolk'] = dist(Suffolk[0], Suffolk[1],\n",
    "                                      data['dropoff_longitude'], data['dropoff_latitude'])\n",
    "    \n",
    "    data['pickup_distance_to_Westchester'] = dist(Westchester[0], Westchester[1],\n",
    "                                      data['pickup_longitude'], data['pickup_latitude'])\n",
    "    data['dropoff_distance_to_Westchester'] = dist(Westchester[0], Westchester[1],\n",
    "                                      data['dropoff_longitude'], data['dropoff_latitude'])\n",
    "    \n",
    "    data['pickup_distance_to_Rockland'] = dist(Rockland[0], Rockland[1],\n",
    "                                      data['pickup_longitude'], data['pickup_latitude'])\n",
    "    data['dropoff_distance_to_Rockland'] = dist(Rockland[0], Rockland[1],\n",
    "                                      data['dropoff_longitude'], data['dropoff_latitude'])\n",
    "    \n",
    "    data['pickup_distance_to_Dutchess'] = dist(Dutchess[0], Dutchess[1],\n",
    "                                      data['pickup_longitude'], data['pickup_latitude'])\n",
    "    data['dropoff_distance_to_Dutchess'] = dist(Dutchess[0], Dutchess[1],\n",
    "                                      data['dropoff_longitude'], data['dropoff_latitude'])\n",
    "    \n",
    "    data['pickup_distance_to_Orange'] = dist(Orange[0], Orange[1],\n",
    "                                      data['pickup_longitude'], data['pickup_latitude'])\n",
    "    data['dropoff_distance_to_Orange'] = dist(Orange[0], Orange[1],\n",
    "                                      data['dropoff_longitude'], data['dropoff_latitude'])\n",
    "\n",
    "\n",
    "    # airports\n",
    "    data['pickup_distance_to_jfk'] = dist(jfk[0], jfk[1],\n",
    "                                         data['pickup_longitude'], data['pickup_latitude'])\n",
    "    data['dropoff_distance_to_jfk'] = dist(jfk[0], jfk[1],\n",
    "                                           data['dropoff_longitude'], data['dropoff_latitude'])\n",
    "    \n",
    "    data['pickup_distance_to_ewr'] = dist(ewr[0], ewr[1], \n",
    "                                          data['pickup_longitude'], data['pickup_latitude'])\n",
    "    data['dropoff_distance_to_ewr'] = dist(ewr[0], ewr[1],\n",
    "                                           data['dropoff_longitude'], data['dropoff_latitude'])\n",
    "    \n",
    "    data['pickup_distance_to_lgr'] = dist(lgr[0], lgr[1],\n",
    "                                          data['pickup_longitude'], data['pickup_latitude'])\n",
    "    data['dropoff_distance_to_lgr'] = dist(lgr[0], lgr[1],\n",
    "                                           data['dropoff_longitude'], data['dropoff_latitude'])\n",
    "    \n",
    "    # point distance\n",
    "    data['distance'] = dist(data['pickup_longitude'], data['pickup_latitude'],\n",
    "                            data['dropoff_longitude'], data['dropoff_latitude'])\n",
    "    \n",
    "    return data\n",
    "\n",
    "# Apply to both train and test data      \n",
    "train = transform(train)\n",
    "test = transform(test)"
   ]
  },
  {
   "cell_type": "code",
   "execution_count": 44,
   "id": "252e94b1",
   "metadata": {},
   "outputs": [],
   "source": [
    "for i in train.dtypes.index[12:-1]:\n",
    "    train[i] = train[i].astype(np.float32)"
   ]
  },
  {
   "cell_type": "code",
   "execution_count": 46,
   "id": "f2057b24",
   "metadata": {},
   "outputs": [],
   "source": [
    "# train.distance.hist(bins=50)\n",
    "# plt.title('Distance Distribution.')\n",
    "# sns.despine()"
   ]
  },
  {
   "cell_type": "code",
   "execution_count": 47,
   "id": "86bed14d",
   "metadata": {
    "scrolled": true
   },
   "outputs": [],
   "source": [
    "# sns.scatterplot(x='distance', y='fare_amount', data=train, alpha=0.4)\n",
    "# sns.despine()"
   ]
  },
  {
   "cell_type": "markdown",
   "id": "2c141409",
   "metadata": {},
   "source": [
    "From this plot we notice:\n",
    "\n",
    "<li>There are trips with zero distance but with a non-zero fare. Could this be trips from and to the same location? Predicting these fares will be difficult as there is likely not sufficient information in the dataset.\n",
    "\n",
    "<li>There are some trips with >50 miles travel distance but low fare. Perhaps these are discounted trips? \n",
    "    \n",
    "<li>The horizontal lines in the right plot might indicate again the fixed fare trips to/from JFK airport."
   ]
  },
  {
   "cell_type": "code",
   "execution_count": 48,
   "id": "453245a6",
   "metadata": {},
   "outputs": [],
   "source": [
    "idx = train['distance']>=.005\n",
    "train = train[idx]"
   ]
  },
  {
   "cell_type": "code",
   "execution_count": 49,
   "id": "2d20c757",
   "metadata": {},
   "outputs": [],
   "source": [
    "train['distance'] = train.distance.astype(np.float16)"
   ]
  },
  {
   "cell_type": "code",
   "execution_count": 50,
   "id": "4fa878f6",
   "metadata": {},
   "outputs": [],
   "source": [
    "test['distance'] = test.distance.astype(np.float16)"
   ]
  },
  {
   "cell_type": "code",
   "execution_count": 51,
   "id": "d752fb86",
   "metadata": {},
   "outputs": [],
   "source": [
    "def calculate_direction(pickup_lat, pickup_lon, dropoff_lat, dropoff_lon):\n",
    "    \"\"\"\n",
    "    Return distance along great radius between pickup and dropoff coordinates.\n",
    "    \"\"\"\n",
    "    #Define earth radius (km)\n",
    "    R_earth = 6371\n",
    "    #Convert degrees to radians\n",
    "    pickup_lat, pickup_lon, dropoff_lat, dropoff_lon = map(np.radians,\n",
    "                                                             [pickup_lat, pickup_lon, \n",
    "                                                              dropoff_lat, dropoff_lon])\n",
    "    #Compute distances along lat, lon dimensions\n",
    "    dlat = dropoff_lat - pickup_lat\n",
    "    dlon = pickup_lon - dropoff_lon\n",
    "    \n",
    "    #Compute bearing distance\n",
    "    direction = np.arctan2(np.sin(dlon * np.cos(dropoff_lat)),np.cos(pickup_lat) * np.sin(dropoff_lat) - np.sin(pickup_lat) * np.cos(dropoff_lat) * np.cos(dlon))\n",
    "    return direction"
   ]
  },
  {
   "cell_type": "code",
   "execution_count": 52,
   "id": "62677464",
   "metadata": {},
   "outputs": [],
   "source": [
    "train['direction'] = calculate_direction(train['pickup_latitude'].values, train['pickup_longitude'].values, \n",
    "                                   train['dropoff_latitude'].values , train['dropoff_longitude'].values) "
   ]
  },
  {
   "cell_type": "code",
   "execution_count": 53,
   "id": "d5a40374",
   "metadata": {},
   "outputs": [],
   "source": [
    "train['direction'] = train['direction'].astype(np.float32)"
   ]
  },
  {
   "cell_type": "code",
   "execution_count": 54,
   "id": "fb93aa1b",
   "metadata": {},
   "outputs": [],
   "source": [
    "test['direction'] = calculate_direction(test['pickup_latitude'].values, test['pickup_longitude'].values, \n",
    "                                   test['dropoff_latitude'].values , test['dropoff_longitude'].values)"
   ]
  },
  {
   "cell_type": "code",
   "execution_count": 55,
   "id": "d5cac6df",
   "metadata": {},
   "outputs": [],
   "source": [
    "# cols = train.corrwith(train['fare_amount']).index\n",
    "# values = train.corrwith(train['fare_amount']).values\n",
    "\n",
    "# cols_subset = []\n",
    "# for col, val in zip(cols, values):\n",
    "#     if np.abs(val)<=0.05:\n",
    "#         cols_subset.append(col)"
   ]
  },
  {
   "cell_type": "code",
   "execution_count": 56,
   "id": "018cdc63",
   "metadata": {
    "scrolled": true
   },
   "outputs": [],
   "source": [
    "# cols_subset.append('fare_amount')\n",
    "# cols_subset.append('fare_amount_hist')\n",
    "# cols_subset # Columns to remove"
   ]
  },
  {
   "cell_type": "code",
   "execution_count": 57,
   "id": "59ddea04",
   "metadata": {},
   "outputs": [
    {
     "name": "stdout",
     "output_type": "stream",
     "text": [
      "Train have 34 missing values.\n"
     ]
    }
   ],
   "source": [
    "print(f'Train have {len(train.isna().sum())} missing values.')\n",
    "train.dropna(inplace=True)"
   ]
  },
  {
   "cell_type": "code",
   "execution_count": 58,
   "id": "dd7e2c1e",
   "metadata": {},
   "outputs": [],
   "source": [
    "# # # Convert them to radian so their range will shink from range of degrees ( 1 -> 360) to range of radians.\n",
    "\n",
    "train['pickup_latitude'] = train['pickup_latitude'].apply(lambda x: np.radians(x))\n",
    "train['pickup_longitude'] = train['pickup_longitude'].apply(lambda x: np.radians(x))\n",
    "train['dropoff_latitude'] = train['dropoff_latitude'].apply(lambda x: np.radians(x))\n",
    "train['dropoff_longitude'] = train['dropoff_longitude'].apply(lambda x: np.radians(x))\n",
    "\n",
    "test['pickup_latitude'] = test['pickup_latitude'].apply(lambda x: np.radians(x))\n",
    "test['pickup_longitude'] = test['pickup_longitude'].apply(lambda x: np.radians(x))\n",
    "test['dropoff_latitude'] = test['dropoff_latitude'].apply(lambda x: np.radians(x))\n",
    "test['dropoff_longitude'] = test['dropoff_longitude'].apply(lambda x: np.radians(x))"
   ]
  },
  {
   "cell_type": "code",
   "execution_count": 59,
   "id": "f1a2547a",
   "metadata": {},
   "outputs": [
    {
     "name": "stdout",
     "output_type": "stream",
     "text": [
      "<class 'pandas.core.frame.DataFrame'>\n",
      "Int64Index: 19256775 entries, 0 to 19999999\n",
      "Data columns (total 34 columns):\n",
      " #   Column                           Dtype  \n",
      "---  ------                           -----  \n",
      " 0   fare_amount                      float32\n",
      " 1   pickup_longitude                 float64\n",
      " 2   pickup_latitude                  float64\n",
      " 3   dropoff_longitude                float64\n",
      " 4   dropoff_latitude                 float64\n",
      " 5   passenger_count                  uint8  \n",
      " 6   day                              uint8  \n",
      " 7   hour                             uint8  \n",
      " 8   year                             uint16 \n",
      " 9   day_of_week                      uint8  \n",
      " 10  is_weekend                       bool   \n",
      " 11  is_night                         bool   \n",
      " 12  pickup_distance_to_center        float32\n",
      " 13  dropoff_distance_to_center       float32\n",
      " 14  pickup_distance_to_Nassau        float32\n",
      " 15  dropoff_distance_to_Nassau       float32\n",
      " 16  pickup_distance_to_Suffolk       float32\n",
      " 17  dropoff_distance_to_Suffolk      float32\n",
      " 18  pickup_distance_to_Westchester   float32\n",
      " 19  dropoff_distance_to_Westchester  float32\n",
      " 20  pickup_distance_to_Rockland      float32\n",
      " 21  dropoff_distance_to_Rockland     float32\n",
      " 22  pickup_distance_to_Dutchess      float32\n",
      " 23  dropoff_distance_to_Dutchess     float32\n",
      " 24  pickup_distance_to_Orange        float32\n",
      " 25  dropoff_distance_to_Orange       float32\n",
      " 26  pickup_distance_to_jfk           float32\n",
      " 27  dropoff_distance_to_jfk          float32\n",
      " 28  pickup_distance_to_ewr           float32\n",
      " 29  dropoff_distance_to_ewr          float32\n",
      " 30  pickup_distance_to_lgr           float32\n",
      " 31  dropoff_distance_to_lgr          float32\n",
      " 32  distance                         float16\n",
      " 33  direction                        float32\n",
      "dtypes: bool(2), float16(1), float32(22), float64(4), uint16(1), uint8(4)\n",
      "memory usage: 2.5 GB\n"
     ]
    }
   ],
   "source": [
    "train.info()"
   ]
  },
  {
   "cell_type": "markdown",
   "id": "2a69557e",
   "metadata": {},
   "source": [
    "## Model Implementation."
   ]
  },
  {
   "cell_type": "code",
   "execution_count": 60,
   "id": "8ac1e74a",
   "metadata": {},
   "outputs": [],
   "source": [
    "from sklearn.model_selection import train_test_split, cross_val_score, RepeatedKFold, GridSearchCV\n",
    "from sklearn.metrics import mean_squared_error\n",
    "from sklearn.preprocessing import PowerTransformer\n",
    "from sklearn.pipeline import make_pipeline\n",
    "from sklearn.ensemble import HistGradientBoostingRegressor\n",
    "from sklearn.compose import make_column_transformer"
   ]
  },
  {
   "cell_type": "code",
   "execution_count": 61,
   "id": "2e6f439e",
   "metadata": {},
   "outputs": [],
   "source": [
    "#import xgboost as xgb"
   ]
  },
  {
   "cell_type": "code",
   "execution_count": 62,
   "id": "239531ac",
   "metadata": {},
   "outputs": [],
   "source": [
    "X = train.drop(columns = 'fare_amount', axis=1).values\n",
    "y = train['fare_amount'].values"
   ]
  },
  {
   "cell_type": "code",
   "execution_count": 63,
   "id": "b5eab8f4",
   "metadata": {},
   "outputs": [],
   "source": [
    "del train"
   ]
  },
  {
   "cell_type": "code",
   "execution_count": 64,
   "id": "11fc1be2",
   "metadata": {},
   "outputs": [],
   "source": [
    "#X = np.round(X, 4)"
   ]
  },
  {
   "cell_type": "code",
   "execution_count": 65,
   "id": "c757f8f8",
   "metadata": {},
   "outputs": [
    {
     "data": {
      "text/plain": [
       "(19256775, 33)"
      ]
     },
     "execution_count": 65,
     "metadata": {},
     "output_type": "execute_result"
    }
   ],
   "source": [
    "X.shape"
   ]
  },
  {
   "cell_type": "code",
   "execution_count": null,
   "id": "42daf824",
   "metadata": {},
   "outputs": [],
   "source": [
    "X_train, X_test, y_train, y_test = train_test_split(X, y, test_size=0.3, random_state=0)"
   ]
  },
  {
   "cell_type": "code",
   "execution_count": null,
   "id": "d93a4f4e",
   "metadata": {},
   "outputs": [],
   "source": [
    "del X\n",
    "del y"
   ]
  },
  {
   "cell_type": "code",
   "execution_count": null,
   "id": "b8c1569d",
   "metadata": {},
   "outputs": [],
   "source": [
    "print('Training Set:', X_train.shape)\n",
    "print('Test Set:', X_test.shape)"
   ]
  },
  {
   "cell_type": "code",
   "execution_count": null,
   "id": "68716f57",
   "metadata": {},
   "outputs": [],
   "source": [
    "data_prep_pipe = make_pipeline(\n",
    "    PowerTransformer())"
   ]
  },
  {
   "cell_type": "code",
   "execution_count": null,
   "id": "7f61fde2",
   "metadata": {},
   "outputs": [],
   "source": [
    "# reg = HistGradientBoostingRegressor(max_iter=600, \n",
    "#                                     max_depth=20, \n",
    "#                                     scoring='neg_root_mean_squared_error' ,\n",
    "#                                     verbose=1, \n",
    "#                                     random_state=0, \n",
    "#                                     min_samples_leaf=40)\n",
    "# final_pipe = make_pipeline(\n",
    "#                 data_prep_pipe, \n",
    "#                 reg )"
   ]
  },
  {
   "cell_type": "code",
   "execution_count": null,
   "id": "88fd9fb6",
   "metadata": {},
   "outputs": [],
   "source": [
    "# cv = RepeatedKFold(n_splits=5, \n",
    "#                       n_repeats=3, \n",
    "#                       random_state=0)\n",
    "\n",
    "# results = cross_val_score(final_pipe, \n",
    "#                           X_train, \n",
    "#                           y_train, \n",
    "#                           n_jobs=-1, \n",
    "#                           scoring='neg_root_mean_squared_error')"
   ]
  },
  {
   "cell_type": "code",
   "execution_count": null,
   "id": "357dd0d1",
   "metadata": {},
   "outputs": [],
   "source": [
    "# print(np.abs(np.mean(results).round(3)))\n",
    "\n",
    "# # 3.151 on 2M Samples."
   ]
  },
  {
   "cell_type": "code",
   "execution_count": null,
   "id": "7ab0bd4a",
   "metadata": {},
   "outputs": [],
   "source": [
    "#final_pipe.fit(X_train, y_train)"
   ]
  },
  {
   "cell_type": "code",
   "execution_count": null,
   "id": "d69d48b7",
   "metadata": {},
   "outputs": [],
   "source": [
    "# y_pred_train = final_pipe.predict(X_test)\n",
    "# print(np.sqrt(mean_squared_error(y_test, y_pred_train)))\n",
    "\n",
    "#3.0698676128442157"
   ]
  },
  {
   "cell_type": "code",
   "execution_count": null,
   "id": "6fc8451c",
   "metadata": {},
   "outputs": [],
   "source": [
    "# key = test['key']\n",
    "\n",
    "# test = test.drop(columns = ['fare_amount', 'fare_amount_hist'], axis=1, errors='ignore')\n",
    "# test.drop(['key', 'pickup_datetime'], axis=1,  errors='ignore', inplace=True)"
   ]
  },
  {
   "cell_type": "code",
   "execution_count": null,
   "id": "22c1ce3a",
   "metadata": {},
   "outputs": [],
   "source": [
    "# y_pred_test = final_pipe.predict(test)\n",
    "# holdout = pd.DataFrame({'key':key,'fare_amount': y_pred_test})"
   ]
  },
  {
   "cell_type": "code",
   "execution_count": null,
   "id": "43ce67ea",
   "metadata": {},
   "outputs": [],
   "source": [
    "# holdout.to_csv('submission.csv', index=False)"
   ]
  },
  {
   "cell_type": "code",
   "execution_count": null,
   "id": "1315914a",
   "metadata": {},
   "outputs": [],
   "source": []
  }
 ],
 "metadata": {
  "kernelspec": {
   "display_name": "Python 3 (ipykernel)",
   "language": "python",
   "name": "python3"
  },
  "language_info": {
   "codemirror_mode": {
    "name": "ipython",
    "version": 3
   },
   "file_extension": ".py",
   "mimetype": "text/x-python",
   "name": "python",
   "nbconvert_exporter": "python",
   "pygments_lexer": "ipython3",
   "version": "3.9.13"
  }
 },
 "nbformat": 4,
 "nbformat_minor": 5
}
